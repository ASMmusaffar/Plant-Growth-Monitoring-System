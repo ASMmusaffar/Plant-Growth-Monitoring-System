{
 "cells": [
  {
   "cell_type": "markdown",
   "id": "e200b83f-b897-4d6e-a715-07203e3aa8f1",
   "metadata": {},
   "source": [
    "# Leaf Color Detect For No-Controls and Water-Control\n",
    "\n",
    "This script helps in tracking and visualizing plant growth by analyzing images taken over a period of time. By detecting the green areas in the images, it provides a quantitative measure of growth, which is then visualized through a line plot"
   ]
  },
  {
   "cell_type": "markdown",
   "id": "7ce04ecb-407e-4f4e-815a-56e7d08a9345",
   "metadata": {},
   "source": [
    "## No-Controls"
   ]
  },
  {
   "cell_type": "code",
   "execution_count": 4,
   "id": "eb8a919e-a656-4ce5-a715-1d37a6e017ab",
   "metadata": {},
   "outputs": [
    {
     "name": "stdout",
     "output_type": "stream",
     "text": [
      "Image File Name       | Dominant BGR Color\n",
      "--------------------------------------------------\n",
      "01_Morning.jpg       | (255, 255, 255)\n",
      "02_Morning.jpg       | (162, 149, 141)\n",
      "03_Morning.jpg       | (255, 255, 255)\n",
      "04_Evening.jpg       | (40, 37, 39)\n",
      "04_Morning.jpg       | (255, 255, 255)\n",
      "05_Evening.jpg       | (8, 7, 16)\n",
      "05_Morning.jpg       | (255, 255, 255)\n",
      "06_Evening.jpg       | (113, 112, 116)\n",
      "06_Morning.jpg       | (255, 255, 255)\n",
      "07_Evening.jpg       | (202, 162, 150)\n",
      "07_Morning.jpg       | (254, 254, 254)\n",
      "08_Evening.jpg       | (7, 5, 11)\n",
      "08_Morning.jpg       | (194, 182, 176)\n",
      "09_Evening.jpg       | (255, 255, 255)\n",
      "09_Morning.jpg       | (201, 191, 184)\n",
      "10_Evening.jpg       | (199, 164, 154)\n",
      "10_Morning.jpg       | (197, 184, 176)\n",
      "11_Evening.jpg       | (10, 8, 14)\n",
      "11_Morning.jpg       | (184, 177, 168)\n",
      "12_Evening.jpg       | (17, 14, 23)\n",
      "12_Morning.jpg       | (181, 176, 167)\n"
     ]
    }
   ],
   "source": [
    "import cv2\n",
    "import numpy as np\n",
    "import os\n",
    "from collections import Counter\n",
    "\n",
    "def get_dominant_color(image_path):\n",
    "    \"\"\"Extracts the dominant BGR color from an image.\"\"\"\n",
    "    image = cv2.imread(image_path)\n",
    "    if image is None:\n",
    "        print(f\"Error: Image '{image_path}' not found.\")\n",
    "        return None\n",
    "\n",
    "    image = cv2.resize(image, (800, 800))\n",
    "    \n",
    "    pixels = image.reshape(-1, 3)  # Flatten image to a list of BGR pixels\n",
    "\n",
    "    counter = Counter(map(tuple, pixels))\n",
    "    dominant_bgr = counter.most_common(1)[0][0]  # Get the most frequent BGR color\n",
    "\n",
    "    return dominant_bgr\n",
    "\n",
    "def process_folder(folder_path):\n",
    "    \"\"\"Processes all images in a folder and extracts the dominant leaf color.\"\"\"\n",
    "    color_data = {}\n",
    "\n",
    "    for filename in sorted(os.listdir(folder_path)):\n",
    "        if filename.endswith(('.jpg', '.png', '.jpeg')):\n",
    "            image_path = os.path.join(folder_path, filename)\n",
    "            dominant_bgr = get_dominant_color(image_path)\n",
    "            if dominant_bgr:\n",
    "                color_data[filename] = dominant_bgr\n",
    "\n",
    "    return color_data\n",
    "\n",
    "folder_path = 'PlantSelected/NoControls'\n",
    "color_data = process_folder(folder_path)\n",
    "\n",
    "if color_data:\n",
    "    print(\"No-Controls Days    | Dominant BGR Color\")\n",
    "    print(\"-\" * 50)\n",
    "    for filename, bgr in color_data.items():\n",
    "        print(f\"{filename:20} | {bgr}\")\n"
   ]
  },
  {
   "cell_type": "markdown",
   "id": "26694597-1124-4362-9926-e2d75a0b0a19",
   "metadata": {},
   "source": [
    "## Water-Control"
   ]
  },
  {
   "cell_type": "code",
   "execution_count": 5,
   "id": "1b13c133-13ec-4844-85d9-5e728695830e",
   "metadata": {},
   "outputs": [
    {
     "name": "stdout",
     "output_type": "stream",
     "text": [
      "Water-Controls Days  | Dominant BGR Color\n",
      "--------------------------------------------------\n",
      "01_Morning.jpg       | (255, 255, 255)\n",
      "02_Morning.jpg       | (255, 255, 255)\n",
      "03_Morning.jpg       | (255, 255, 255)\n",
      "04_Evening.jpg       | (7, 5, 11)\n",
      "04_Morning.jpg       | (255, 255, 255)\n",
      "05_Evening.jpg       | (255, 255, 255)\n",
      "05_Morning.jpg       | (255, 255, 255)\n",
      "06_Evening.jpg       | (8, 6, 12)\n",
      "06_Morning.jpg       | (254, 254, 254)\n",
      "07_Evening.jpg       | (255, 255, 255)\n",
      "07_Morning.jpg       | (255, 255, 255)\n",
      "08_Evening.jpg       | (9, 8, 17)\n",
      "08_Morning.jpg       | (255, 255, 255)\n",
      "09_Evening.jpg       | (174, 164, 154)\n",
      "09_Morning.jpg       | (255, 255, 255)\n",
      "10_Evening.jpg       | (255, 255, 255)\n",
      "10_Morning.jpg       | (254, 254, 254)\n",
      "11_Evening.jpg       | (95, 91, 90)\n",
      "11_Morning.jpg       | (255, 255, 255)\n",
      "12_Evening.jpg       | (254, 254, 254)\n",
      "12_Morning.jpg       | (255, 255, 255)\n"
     ]
    }
   ],
   "source": [
    "import cv2\n",
    "import numpy as np\n",
    "import os\n",
    "from collections import Counter\n",
    "\n",
    "def get_dominant_color(image_path):\n",
    "    \"\"\"Extracts the dominant BGR color from an image.\"\"\"\n",
    "    image = cv2.imread(image_path)\n",
    "    if image is None:\n",
    "        print(f\"Error: Image '{image_path}' not found.\")\n",
    "        return None\n",
    "\n",
    "    image = cv2.resize(image, (800, 800))\n",
    "    \n",
    "    pixels = image.reshape(-1, 3)  # Flatten image to a list of BGR pixels\n",
    "\n",
    "    counter = Counter(map(tuple, pixels))\n",
    "    dominant_bgr = counter.most_common(1)[0][0]  # Get the most frequent BGR color\n",
    "\n",
    "    return dominant_bgr\n",
    "\n",
    "def process_folder(folder_path):\n",
    "    \"\"\"Processes all images in a folder and extracts the dominant leaf color.\"\"\"\n",
    "    color_data = {}\n",
    "\n",
    "    for filename in sorted(os.listdir(folder_path)):\n",
    "        if filename.endswith(('.jpg', '.png', '.jpeg')):\n",
    "            image_path = os.path.join(folder_path, filename)\n",
    "            dominant_bgr = get_dominant_color(image_path)\n",
    "            if dominant_bgr:\n",
    "                color_data[filename] = dominant_bgr\n",
    "\n",
    "    return color_data\n",
    "\n",
    "folder_path = 'PlantSelected/WaterControls'\n",
    "color_data = process_folder(folder_path)\n",
    "\n",
    "if color_data:\n",
    "    print(\"Water-Control Days   | Dominant BGR Color\")\n",
    "    print(\"-\" * 50)\n",
    "    for filename, bgr in color_data.items():\n",
    "        print(f\"{filename:20} | {bgr}\")\n"
   ]
  },
  {
   "cell_type": "code",
   "execution_count": null,
   "id": "b8920889-2a71-420f-ab34-392087e5162c",
   "metadata": {},
   "outputs": [],
   "source": []
  }
 ],
 "metadata": {
  "kernelspec": {
   "display_name": "Python 3 (ipykernel)",
   "language": "python",
   "name": "python3"
  },
  "language_info": {
   "codemirror_mode": {
    "name": "ipython",
    "version": 3
   },
   "file_extension": ".py",
   "mimetype": "text/x-python",
   "name": "python",
   "nbconvert_exporter": "python",
   "pygments_lexer": "ipython3",
   "version": "3.8.20"
  }
 },
 "nbformat": 4,
 "nbformat_minor": 5
}
