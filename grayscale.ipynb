{
 "cells": [
  {
   "cell_type": "markdown",
   "id": "81c0491f-c002-4097-b2e4-13e74275d507",
   "metadata": {},
   "source": [
    "# Grayscale"
   ]
  },
  {
   "cell_type": "code",
   "execution_count": 1,
   "id": "9fa67d25-e768-4460-a555-c71696a87d49",
   "metadata": {},
   "outputs": [
    {
     "name": "stdout",
     "output_type": "stream",
     "text": [
      "Grayscale image successfully saved to disk.\n"
     ]
    }
   ],
   "source": [
    "import cv2\n",
    "\n",
    "# Read the original image\n",
    "image = cv2.imread(\"PlantSelected/NoControls/01_Morning.jpg\")\n",
    "\n",
    "# Convert the image to grayscale\n",
    "gray_image = cv2.cvtColor(image, cv2.COLOR_BGR2GRAY)\n",
    "\n",
    "# Save the grayscale image to disk\n",
    "cv2.imwrite(\"01_Morning_Gray.jpg\", gray_image)\n",
    "\n",
    "# Optional: Display the grayscale image\n",
    "cv2.imshow('Grayscale Image', gray_image)\n",
    "cv2.waitKey(0)\n",
    "cv2.destroyAllWindows()\n",
    "\n",
    "print(\"Grayscale image successfully saved to disk.\")\n"
   ]
  },
  {
   "cell_type": "markdown",
   "id": "4e18da4e-f85b-4906-89da-6bee56735887",
   "metadata": {},
   "source": [
    "# Threshold (Otsu's)"
   ]
  },
  {
   "cell_type": "code",
   "execution_count": 3,
   "id": "ed2251db-58fa-45ea-b48d-808adeb1c769",
   "metadata": {},
   "outputs": [
    {
     "name": "stdout",
     "output_type": "stream",
     "text": [
      "Tthresholded images have been saved successfully.\n"
     ]
    }
   ],
   "source": [
    "import cv2\n",
    "import numpy as np\n",
    "\n",
    "# Read the image\n",
    "image = cv2.imread(\"01_Morning_Gray.jpg\")\n",
    "\n",
    "# Convert to grayscale first (thresholding requires grayscale image)\n",
    "gray_image = cv2.cvtColor(image, cv2.COLOR_BGR2GRAY)\n",
    "\n",
    "# Otsu's Thresholding (automatically determines optimal threshold value)\n",
    "ret, otsu_thresh = cv2.threshold(gray_image, 0, 255, cv2.THRESH_BINARY + cv2.THRESH_OTSU)\n",
    "cv2.imwrite(\"01_Morning_Gray_otsu_threshold.jpg\", otsu_thresh)\n",
    "\n",
    "print(\"Tthresholded images have been saved successfully.\")\n",
    "\n",
    "cv2.waitKey(0)\n",
    "cv2.destroyAllWindows()\n"
   ]
  },
  {
   "cell_type": "code",
   "execution_count": null,
   "id": "4d189a92-88ad-4ccd-abe9-a1c7080bbd38",
   "metadata": {},
   "outputs": [],
   "source": []
  }
 ],
 "metadata": {
  "kernelspec": {
   "display_name": "Python 3 (ipykernel)",
   "language": "python",
   "name": "python3"
  },
  "language_info": {
   "codemirror_mode": {
    "name": "ipython",
    "version": 3
   },
   "file_extension": ".py",
   "mimetype": "text/x-python",
   "name": "python",
   "nbconvert_exporter": "python",
   "pygments_lexer": "ipython3",
   "version": "3.8.20"
  }
 },
 "nbformat": 4,
 "nbformat_minor": 5
}
