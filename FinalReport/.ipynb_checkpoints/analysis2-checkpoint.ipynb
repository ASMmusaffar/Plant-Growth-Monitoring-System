{
 "cells": [
  {
   "cell_type": "code",
   "execution_count": 6,
   "id": "8dc82b78-a63e-4131-8ef1-334821c2720e",
   "metadata": {},
   "outputs": [
    {
     "data": {
      "text/plain": [
       "True"
      ]
     },
     "execution_count": 6,
     "metadata": {},
     "output_type": "execute_result"
    }
   ],
   "source": [
    "import cv2\n",
    "import numpy as np\n",
    "\n",
    "# Read the image\n",
    "image = cv2.imread('12_Evening.jpg')\n",
    "\n",
    "# Convert to HSV color space\n",
    "hsv = cv2.cvtColor(image, cv2.COLOR_BGR2HSV)\n",
    "\n",
    "# Define range for green color in HSV (adjusted for bright green leaves)\n",
    "lower_green = np.array([35, 70, 70])\n",
    "upper_green = np.array([90, 255, 255])\n",
    "\n",
    "# Create a mask for green color\n",
    "mask = cv2.inRange(hsv, lower_green, upper_green)\n",
    "\n",
    "# Apply the mask to the original image\n",
    "result = cv2.bitwise_and(image, image, mask=mask)\n",
    "\n",
    "cv2.imwrite('hsv_segmentation.jpg', result)\n",
    "cv2.imwrite('green_mask.jpg', mask)\n"
   ]
  },
  {
   "cell_type": "code",
   "execution_count": 7,
   "id": "7ce75a27-21a5-435f-8011-d86537ce1d8a",
   "metadata": {},
   "outputs": [
    {
     "data": {
      "text/plain": [
       "True"
      ]
     },
     "execution_count": 7,
     "metadata": {},
     "output_type": "execute_result"
    }
   ],
   "source": [
    "import cv2\n",
    "import numpy as np\n",
    "\n",
    "# Read the binary mask from previous step\n",
    "binary = cv2.imread('green_mask.jpg', 0)\n",
    "\n",
    "# Create kernels for morphological operations\n",
    "small_kernel = np.ones((3,3), np.uint8)\n",
    "large_kernel = np.ones((7,7), np.uint8)\n",
    "\n",
    "# Remove small noise with opening\n",
    "opening = cv2.morphologyEx(binary, cv2.MORPH_OPEN, small_kernel, iterations=2)\n",
    "\n",
    "# Fill holes with closing\n",
    "closing = cv2.morphologyEx(opening, cv2.MORPH_CLOSE, large_kernel, iterations=3)\n",
    "\n",
    "cv2.imwrite('morphological_cleaned.jpg', closing)\n"
   ]
  },
  {
   "cell_type": "code",
   "execution_count": 9,
   "id": "6453bf8e-f12c-472b-8b8e-c9461973f6c7",
   "metadata": {},
   "outputs": [
    {
     "data": {
      "text/plain": [
       "True"
      ]
     },
     "execution_count": 9,
     "metadata": {},
     "output_type": "execute_result"
    }
   ],
   "source": [
    "import cv2\n",
    "import numpy as np\n",
    "\n",
    "# Read the cleaned binary image\n",
    "binary = cv2.imread('morphological_cleaned.jpg', 0)\n",
    "\n",
    "# Find contours\n",
    "contours, hierarchy = cv2.findContours(binary, cv2.RETR_EXTERNAL, cv2.CHAIN_APPROX_SIMPLE)\n",
    "\n",
    "# Filter contours by area to remove small noise\n",
    "min_contour_area = 500  # Adjust based on your image scale\n",
    "filtered_contours = [c for c in contours if cv2.contourArea(c) > min_contour_area]\n",
    "\n",
    "# Draw contours on original image\n",
    "image = cv2.imread('12_Evening.jpg')\n",
    "cv2.drawContours(image, filtered_contours, -1, (0, 255, 0), 2)\n",
    "\n",
    "# Count leaves (filtered contours)\n",
    "leaf_count = len(filtered_contours)\n",
    "\n",
    "# Add text to image\n",
    "cv2.putText(image, f'Leaf count: {leaf_count}', (10, 30), cv2.FONT_HERSHEY_SIMPLEX, 0.8, (0, 0, 255), 2)\n",
    "\n",
    "cv2.imwrite('accurate_leaf_count.jpg', image)\n"
   ]
  },
  {
   "cell_type": "code",
   "execution_count": 10,
   "id": "2c0d8699-598f-4318-8e17-0ab5a7063c17",
   "metadata": {},
   "outputs": [
    {
     "data": {
      "text/plain": [
       "True"
      ]
     },
     "execution_count": 10,
     "metadata": {},
     "output_type": "execute_result"
    }
   ],
   "source": [
    "import cv2\n",
    "import numpy as np\n",
    "\n",
    "# Read the cleaned binary image\n",
    "binary = cv2.imread('morphological_cleaned.jpg', 0)\n",
    "\n",
    "# Find contours\n",
    "contours, hierarchy = cv2.findContours(binary, cv2.RETR_EXTERNAL, cv2.CHAIN_APPROX_SIMPLE)\n",
    "\n",
    "# Filter contours by area\n",
    "min_contour_area = 500\n",
    "filtered_contours = [c for c in contours if cv2.contourArea(c) > min_contour_area]\n",
    "\n",
    "# Create a blank image to draw the filtered contours\n",
    "leaf_mask = np.zeros_like(binary)\n",
    "cv2.drawContours(leaf_mask, filtered_contours, -1, 255, -1)\n",
    "\n",
    "# Count white pixels (leaf area)\n",
    "leaf_area_pixels = np.sum(leaf_mask == 255)\n",
    "\n",
    "# Assuming 1 cm² = X pixels (you need to calibrate this)\n",
    "# For example, if you know the pot diameter is 5 cm\n",
    "pot_diameter_cm = 5\n",
    "pot_diameter_pixels = binary.shape[1]  # Assuming pot width is image width\n",
    "pixels_per_cm2 = (pot_diameter_pixels / pot_diameter_cm) ** 2\n",
    "\n",
    "leaf_area_cm2 = leaf_area_pixels / pixels_per_cm2\n",
    "\n",
    "# Create a color image to show the measured area\n",
    "original = cv2.imread('12_Evening.jpg')\n",
    "result = original.copy()\n",
    "colored_mask = cv2.cvtColor(leaf_mask, cv2.COLOR_GRAY2BGR)\n",
    "colored_mask[leaf_mask == 255] = [0, 255, 0]  # Green color for leaves\n",
    "\n",
    "# Blend the original image with the colored mask\n",
    "alpha = 0.5\n",
    "result = cv2.addWeighted(result, 1, colored_mask, alpha, 0)\n",
    "\n",
    "# Add text showing the leaf area\n",
    "cv2.putText(result, f'Leaf area: {leaf_area_cm2:.2f} cm²', (10, 60), \n",
    "            cv2.FONT_HERSHEY_SIMPLEX, 0.8, (0, 0, 255), 2)\n",
    "\n",
    "cv2.imwrite('leaf_area_measurement.jpg', result)\n"
   ]
  },
  {
   "cell_type": "code",
   "execution_count": 11,
   "id": "c0b03877-5048-4df1-b049-8194d790a66f",
   "metadata": {},
   "outputs": [
    {
     "data": {
      "text/plain": [
       "True"
      ]
     },
     "execution_count": 11,
     "metadata": {},
     "output_type": "execute_result"
    },
    {
     "data": {
      "image/png": "[encoded data removed]",
      "text/plain": [
       "<Figure size 1000x600 with 1 Axes>"
      ]
     },
     "metadata": {},
     "output_type": "display_data"
    }
   ],
   "source": [
    "import cv2\n",
    "import numpy as np\n",
    "import matplotlib.pyplot as plt\n",
    "\n",
    "# Read the original image and the leaf mask\n",
    "original = cv2.imread('12_Evening.jpg')\n",
    "leaf_mask = cv2.imread('morphological_cleaned.jpg', 0)\n",
    "\n",
    "# Convert BGR to RGB for better color analysis\n",
    "rgb_image = cv2.cvtColor(original, cv2.COLOR_BGR2RGB)\n",
    "\n",
    "# Extract only the leaf pixels using the mask\n",
    "leaf_pixels = rgb_image[leaf_mask == 255]\n",
    "\n",
    "# Calculate average RGB values\n",
    "avg_r = np.mean(leaf_pixels[:, 0])\n",
    "avg_g = np.mean(leaf_pixels[:, 1])\n",
    "avg_b = np.mean(leaf_pixels[:, 2])\n",
    "\n",
    "# Create a histogram of green channel values\n",
    "plt.figure(figsize=(10, 6))\n",
    "plt.hist(leaf_pixels[:, 1], bins=50, color='green', alpha=0.7)\n",
    "plt.title('Green Channel Histogram for Leaf Pixels')\n",
    "plt.xlabel('Green Value')\n",
    "plt.ylabel('Frequency')\n",
    "plt.savefig('leaf_green_histogram.jpg')\n",
    "\n",
    "# Create a color analysis image\n",
    "result = original.copy()\n",
    "cv2.putText(result, f'Avg RGB: ({avg_r:.1f}, {avg_g:.1f}, {avg_b:.1f})', \n",
    "            (10, 90), cv2.FONT_HERSHEY_SIMPLEX, 0.8, (0, 0, 255), 2)\n",
    "\n",
    "cv2.imwrite('leaf_color_analysis.jpg', result)\n"
   ]
  },
  {
   "cell_type": "code",
   "execution_count": null,
   "id": "a2966ace-4c6f-4ed7-9af2-c42ba31177c0",
   "metadata": {},
   "outputs": [],
   "source": []
  }
 ],
 "metadata": {
  "kernelspec": {
   "display_name": "Python 3 (ipykernel)",
   "language": "python",
   "name": "python3"
  },
  "language_info": {
   "codemirror_mode": {
    "name": "ipython",
    "version": 3
   },
   "file_extension": ".py",
   "mimetype": "text/x-python",
   "name": "python",
   "nbconvert_exporter": "python",
   "pygments_lexer": "ipython3",
   "version": "3.8.20"
  }
 },
 "nbformat": 4,
 "nbformat_minor": 5
}
