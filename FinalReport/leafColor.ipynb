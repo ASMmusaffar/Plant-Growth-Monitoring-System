{
 "cells": [
  {
   "cell_type": "code",
   "execution_count": 1,
   "id": "a8f062b3-6566-485b-94da-4b8ea9f71e39",
   "metadata": {},
   "outputs": [
    {
     "name": "stdout",
     "output_type": "stream",
     "text": [
      "01_Morning.jpg: #7a9e1c\n",
      "02_Morning.jpg: #658316\n",
      "03_Morning.jpg: #92a752\n",
      "04_Morning.jpg: #829b39\n",
      "05_Morning.jpg: #7a972e\n",
      "06_Morning.jpg: #83a610\n",
      "07_Morning.jpg: #6f8526\n",
      "08_Morning.jpg: #6f8825\n",
      "09_Morning.jpg: #748d28\n",
      "10_Morning.jpg: #748c2e\n",
      "11_Morning.jpg: #759327\n",
      "12_Morning.jpg: #728920\n"
     ]
    }
   ],
   "source": [
    "import cv2\n",
    "import numpy as np\n",
    "import os\n",
    "\n",
    "def get_leaf_hex_color(image_path):\n",
    "    # Load image and convert to HSV\n",
    "    img = cv2.imread(image_path)\n",
    "    hsv = cv2.cvtColor(img, cv2.COLOR_BGR2HSV)\n",
    "    \n",
    "    # Green leaf color range\n",
    "    mask = cv2.inRange(hsv, np.array([36, 60, 70]), np.array([80, 255, 255]))\n",
    "    \n",
    "    # Calculate average color and convert to HEX\n",
    "    avg_bgr = cv2.mean(img, mask=mask)[:3]\n",
    "    hex_color = f\"{int(avg_bgr[2]):02x}{int(avg_bgr[1]):02x}{int(avg_bgr[0]):02x}\"\n",
    "    \n",
    "    return f\"#{hex_color}\"\n",
    "\n",
    "folder_path = \"PlantSelected/NoControls\"\n",
    "for img_file in [f for f in os.listdir(folder_path) if f.endswith('.jpg')]:\n",
    "    hex_code = get_leaf_hex_color(os.path.join(folder_path, img_file))\n",
    "    print(f\"{img_file}: {hex_code}\")"
   ]
  },
  {
   "cell_type": "code",
   "execution_count": 2,
   "id": "fb59f622-84f9-4b17-a800-a0846534d8b4",
   "metadata": {},
   "outputs": [
    {
     "name": "stdout",
     "output_type": "stream",
     "text": [
      "01_Morning.jpg: #94b526\n",
      "02_Morning.jpg: #678510\n",
      "03_Morning.jpg: #7e9b32\n",
      "04_Morning.jpg: #859d32\n",
      "05_Morning.jpg: #89aa23\n",
      "06_Morning.jpg: #87a31f\n",
      "07_Morning.jpg: #81a020\n",
      "08_Morning.jpg: #79961b\n",
      "09_Morning.jpg: #759017\n",
      "10_Morning.jpg: #708822\n",
      "11_Morning.jpg: #769429\n",
      "12_Morning.jpg: #728e17\n"
     ]
    }
   ],
   "source": [
    "import cv2\n",
    "import numpy as np\n",
    "import os\n",
    "\n",
    "def get_leaf_hex_color(image_path):\n",
    "    # Load image and convert to HSV\n",
    "    img = cv2.imread(image_path)\n",
    "    hsv = cv2.cvtColor(img, cv2.COLOR_BGR2HSV)\n",
    "    \n",
    "    # Green leaf color range\n",
    "    mask = cv2.inRange(hsv, np.array([36, 60, 70]), np.array([80, 255, 255]))\n",
    "    \n",
    "    # Calculate average color and convert to HEX\n",
    "    avg_bgr = cv2.mean(img, mask=mask)[:3]\n",
    "    hex_color = f\"{int(avg_bgr[2]):02x}{int(avg_bgr[1]):02x}{int(avg_bgr[0]):02x}\"\n",
    "    \n",
    "    return f\"#{hex_color}\"\n",
    "\n",
    "folder_path = \"PlantSelected/WaterControls\"\n",
    "for img_file in [f for f in os.listdir(folder_path) if f.endswith('.jpg')]:\n",
    "    hex_code = get_leaf_hex_color(os.path.join(folder_path, img_file))\n",
    "    print(f\"{img_file}: {hex_code}\")"
   ]
  },
  {
   "cell_type": "code",
   "execution_count": null,
   "id": "1b5fb3e6-1d00-434f-a7a0-b5428a232def",
   "metadata": {},
   "outputs": [],
   "source": []
  }
 ],
 "metadata": {
  "kernelspec": {
   "display_name": "Python 3 (ipykernel)",
   "language": "python",
   "name": "python3"
  },
  "language_info": {
   "codemirror_mode": {
    "name": "ipython",
    "version": 3
   },
   "file_extension": ".py",
   "mimetype": "text/x-python",
   "name": "python",
   "nbconvert_exporter": "python",
   "pygments_lexer": "ipython3",
   "version": "3.8.20"
  }
 },
 "nbformat": 4,
 "nbformat_minor": 5
}
